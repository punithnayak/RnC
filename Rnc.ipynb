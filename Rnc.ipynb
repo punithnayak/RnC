{
 "cells": [
  {
   "cell_type": "markdown",
   "id": "f64f1a50",
   "metadata": {},
   "source": [
    "<h1 style=\"font-size:4rem;color:red;\">Python</h1>\n"
   ]
  },
  {
   "cell_type": "markdown",
   "id": "9e1531b1",
   "metadata": {},
   "source": [
    "# Data-strucuture"
   ]
  },
  {
   "cell_type": "markdown",
   "id": "d82fce6e",
   "metadata": {},
   "source": [
    "<h3>Built in data structure</h3>\n",
    "<ol>\n",
    "<li>List</li>\n",
    "<li>Tuple</li>\n",
    "<li>Set</li>\n",
    "<li>Dictionary</li>\n",
    "\n",
    "</ol>"
   ]
  },
  {
   "cell_type": "code",
   "execution_count": null,
   "id": "bb6cff35",
   "metadata": {},
   "outputs": [
    {
     "name": "stdout",
     "output_type": "stream",
     "text": [
      "[1, 2, 'yo', None]\n"
     ]
    }
   ],
   "source": [
    "list=[1,2,\"yo\",None]\n",
    "print(list)"
   ]
  },
  {
   "cell_type": "code",
   "execution_count": null,
   "id": "95e77299",
   "metadata": {},
   "outputs": [
    {
     "name": "stdout",
     "output_type": "stream",
     "text": [
      "342\n"
     ]
    }
   ],
   "source": [
    "list2=[2,3,4,4,\"fwf\",342,\"1234\"]\n",
    "print(list2[-2])"
   ]
  },
  {
   "cell_type": "markdown",
   "id": "08eb1b7d",
   "metadata": {},
   "source": [
    "<h2 style=\"align-text:center;color:yelllow;\"> Python Dictionary</h2>\n"
   ]
  },
  {
   "cell_type": "code",
   "execution_count": null,
   "id": "e377a851",
   "metadata": {},
   "outputs": [
    {
     "data": {
      "text/plain": [
       "'Yashveer'"
      ]
     },
     "execution_count": 10,
     "metadata": {},
     "output_type": "execute_result"
    }
   ],
   "source": [
    "Dict={\"Name\":\"Yashveer\",3:[44,55,66,7,876]}\n",
    "\n",
    "Dict[\"Name\"]"
   ]
  },
  {
   "cell_type": "code",
   "execution_count": null,
   "id": "6e0d16c6",
   "metadata": {},
   "outputs": [
    {
     "name": "stdout",
     "output_type": "stream",
     "text": [
      "[44, 55, 66, 7, 876]\n"
     ]
    }
   ],
   "source": [
    "print(Dict.get(3))"
   ]
  },
  {
   "cell_type": "code",
   "execution_count": null,
   "id": "13598993",
   "metadata": {},
   "outputs": [
    {
     "name": "stdout",
     "output_type": "stream",
     "text": [
      "{4: 64, 5: 125, 6: 216, 7: 343, 8: 512}\n"
     ]
    }
   ],
   "source": [
    "myDic={x:x**3 for x in [4,5,6,7,8]}\n",
    "print(myDic)"
   ]
  },
  {
   "cell_type": "markdown",
   "id": "ed23e826",
   "metadata": {},
   "source": [
    "<h3>Tupple</h3>"
   ]
  },
  {
   "cell_type": "code",
   "execution_count": null,
   "id": "304a8086",
   "metadata": {},
   "outputs": [
    {
     "name": "stdout",
     "output_type": "stream",
     "text": [
      "(2, 3, 4, 5)\n"
     ]
    }
   ],
   "source": [
    "tup=(2,3,4,5)\n",
    "print(tup)"
   ]
  },
  {
   "cell_type": "code",
   "execution_count": null,
   "id": "7a2b6822",
   "metadata": {},
   "outputs": [
    {
     "name": "stdout",
     "output_type": "stream",
     "text": [
      "(4, 5, 6, 7, 8, 8, 8, 9)\n",
      "8\n"
     ]
    }
   ],
   "source": [
    "list3=[4,5,6,7,8,8,8,9]\n",
    "mytupple=tuple(list3)\n",
    "print(mytupple)\n",
    "print(mytupple[-3])"
   ]
  },
  {
   "cell_type": "markdown",
   "id": "68231363",
   "metadata": {},
   "source": [
    "# #set"
   ]
  },
  {
   "cell_type": "code",
   "execution_count": null,
   "id": "c23306d3",
   "metadata": {},
   "outputs": [
    {
     "name": "stdout",
     "output_type": "stream",
     "text": [
      "{3, 4, 5, 'helloWorld', 'for', 'python'}\n"
     ]
    }
   ],
   "source": [
    "Set=set([3,4,\"helloWorld\",4,\"for\",5,\"python\"])\n",
    "print(Set)"
   ]
  },
  {
   "cell_type": "code",
   "execution_count": null,
   "id": "90536b4b",
   "metadata": {},
   "outputs": [
    {
     "name": "stdout",
     "output_type": "stream",
     "text": [
      "3 4 5 helloWorld for python "
     ]
    }
   ],
   "source": [
    "for i in Set:\n",
    "    print(i, end=\" \")"
   ]
  },
  {
   "cell_type": "code",
   "execution_count": null,
   "id": "937c12f7",
   "metadata": {},
   "outputs": [
    {
     "name": "stdout",
     "output_type": "stream",
     "text": [
      "True\n"
     ]
    }
   ],
   "source": [
    "print(\"helloWorld\" in Set)"
   ]
  },
  {
   "cell_type": "markdown",
   "id": "0b4d0bb6",
   "metadata": {},
   "source": [
    "#Frozen set "
   ]
  },
  {
   "cell_type": "code",
   "execution_count": null,
   "id": "4d123d0d",
   "metadata": {},
   "outputs": [
    {
     "ename": "AttributeError",
     "evalue": "'frozenset' object has no attribute 'add'",
     "output_type": "error",
     "traceback": [
      "\u001b[1;31m---------------------------------------------------------------------------\u001b[0m",
      "\u001b[1;31mAttributeError\u001b[0m                            Traceback (most recent call last)",
      "Input \u001b[1;32mIn [28]\u001b[0m, in \u001b[0;36m<cell line: 2>\u001b[1;34m()\u001b[0m\n\u001b[0;32m      1\u001b[0m Frozen_set\u001b[38;5;241m=\u001b[39m\u001b[38;5;28mfrozenset\u001b[39m([\u001b[38;5;124m\"\u001b[39m\u001b[38;5;124me\u001b[39m\u001b[38;5;124m\"\u001b[39m,\u001b[38;5;124m\"\u001b[39m\u001b[38;5;124mf\u001b[39m\u001b[38;5;124m\"\u001b[39m,\u001b[38;5;124m\"\u001b[39m\u001b[38;5;124mg\u001b[39m\u001b[38;5;124m\"\u001b[39m])\n\u001b[1;32m----> 2\u001b[0m \u001b[43mFrozen_set\u001b[49m\u001b[38;5;241;43m.\u001b[39;49m\u001b[43madd\u001b[49m(\u001b[38;5;241m4\u001b[39m)\n",
      "\u001b[1;31mAttributeError\u001b[0m: 'frozenset' object has no attribute 'add'"
     ]
    }
   ],
   "source": [
    "Frozen_set=frozenset([\"e\",\"f\",\"g\"])\n",
    "Frozen_set.add(4)"
   ]
  },
  {
   "cell_type": "markdown",
   "id": "0a0c45cc",
   "metadata": {},
   "source": [
    "# Collection module"
   ]
  },
  {
   "cell_type": "code",
   "execution_count": null,
   "id": "d389b2cd",
   "metadata": {},
   "outputs": [
    {
     "name": "stdout",
     "output_type": "stream",
     "text": [
      "Counter({'B': 5, 'A': 3, 'C': 2})\n"
     ]
    }
   ],
   "source": [
    "from collections import Counter\n",
    "print(Counter(['B','B','A','B','C','A','B','B','A','C']))"
   ]
  },
  {
   "cell_type": "code",
   "execution_count": null,
   "id": "8c0f19c8",
   "metadata": {},
   "outputs": [
    {
     "name": "stdout",
     "output_type": "stream",
     "text": [
      "Counter({'sdf': 2, 5: 2, 2: 1, 3: 1, 4: 1})\n"
     ]
    }
   ],
   "source": [
    "from collections import Counter\n",
    "print(Counter([\"sdf\",\"sdf\",2,3,4,5,5]))"
   ]
  },
  {
   "cell_type": "markdown",
   "id": "2a0012b1",
   "metadata": {},
   "source": [
    "<h3>User defined </h3>\n",
    "<ol>\n",
    "<li>Stack</li>\n",
    "<li>Queue</li>\n",
    "<li>LinkedList</li>\n",
    "<li>Tree</li>\n",
    "<li>Graph</li>\n",
    "</ol>"
   ]
  },
  {
   "cell_type": "markdown",
   "id": "267cb7a3",
   "metadata": {},
   "source": [
    "# Linkedlist"
   ]
  },
  {
   "cell_type": "code",
   "execution_count": null,
   "id": "63f5d7c5",
   "metadata": {},
   "outputs": [
    {
     "name": "stdout",
     "output_type": "stream",
     "text": [
      "9\n",
      "23\n",
      "23\n"
     ]
    }
   ],
   "source": [
    "class Node:\n",
    "    def __init__(self,data):\n",
    "        self.data=data\n",
    "        self.next=None\n",
    "        \n",
    "class Linkedlist:\n",
    "    def __init__(self):\n",
    "        self.head=None\n",
    "\n",
    "\n",
    "    def printList(self):\n",
    "        temp=self.head\n",
    "        while(temp):\n",
    "            print(temp.data)\n",
    "            temp=temp.next\n",
    "        \n",
    "   \n",
    "        \n",
    "if __name__==\"__main__\":\n",
    "    list1=Linkedlist()\n",
    "    list1.head=Node(9)\n",
    "    second=Node(23)\n",
    "    third=Node(23)\n",
    "    list1.head.next=second\n",
    "    second.next=third\n",
    "    list1.printList()\n",
    "    \n",
    "        \n",
    "        "
   ]
  },
  {
   "cell_type": "markdown",
   "id": "3822b427",
   "metadata": {},
   "source": [
    "# Stack"
   ]
  },
  {
   "cell_type": "code",
   "execution_count": null,
   "id": "dca81ea0",
   "metadata": {},
   "outputs": [
    {
     "name": "stdout",
     "output_type": "stream",
     "text": [
      "40\n"
     ]
    }
   ],
   "source": [
    "stack=[]\n",
    "stack.append(10)\n",
    "stack.append(20)\n",
    "stack.append(40)\n",
    "print(stack.pop())"
   ]
  },
  {
   "cell_type": "code",
   "execution_count": null,
   "id": "e85ca11e",
   "metadata": {},
   "outputs": [
    {
     "name": "stdout",
     "output_type": "stream",
     "text": [
      "Enter the length of the stack6\n",
      "Select the operation  1.push 2.pop 3.quit\n",
      "1\n",
      "Enter the element to be pushed to stack3\n",
      "['3']\n",
      "Enter the correct operation\n",
      "Select the operation  1.push 2.pop 3.quit\n",
      "3\n"
     ]
    }
   ],
   "source": [
    "stack=[]\n",
    "\n",
    "def push():\n",
    "    if len(stack)==n:\n",
    "        print(\"stack is full\")\n",
    "    else:\n",
    "        element=input(\"Enter the element to be pushed to stack\")\n",
    "        stack.append(element)\n",
    "        print(stack)\n",
    "    pass   \n",
    "        \n",
    "def pop():\n",
    "    if not stack:\n",
    "        print(\"stack is empty\")\n",
    "    else:\n",
    "        element=stack.pop()\n",
    "        print(\"removed element is \",element)\n",
    "        print(stack)\n",
    "    pass  \n",
    "\n",
    "        \n",
    "if __name__==\"__main__\":\n",
    "    n=input(\"Enter the length of the stack\")\n",
    "    while True:\n",
    "        print(\"Select the operation  1.push 2.pop 3.quit\")\n",
    "        choice=int(input())\n",
    "        \n",
    "        if choice==1:\n",
    "            push()\n",
    "        if choice==2:\n",
    "            pop()\n",
    "        if choice ==3:\n",
    "            break;\n",
    "        else:\n",
    "            print(\"Enter the correct operation\")\n",
    "            "
   ]
  },
  {
   "cell_type": "code",
   "execution_count": null,
   "id": "d7e13a68",
   "metadata": {},
   "outputs": [
    {
     "name": "stdout",
     "output_type": "stream",
     "text": [
      "deque([19, 22, 34, 99])\n",
      "34\n"
     ]
    }
   ],
   "source": [
    "import collections\n",
    "stack=collections.deque()\n",
    "stack.append(19)\n",
    "stack.append(22)\n",
    "stack.append(34)\n",
    "stack.append(99)\n",
    "print(stack)\n",
    "\n",
    "stack.pop()\n",
    "print(stack[-1])\n",
    "\n"
   ]
  },
  {
   "cell_type": "markdown",
   "id": "6c4d4d94",
   "metadata": {},
   "source": [
    "# Queue"
   ]
  },
  {
   "cell_type": "markdown",
   "id": "12c85ca8",
   "metadata": {},
   "source": [
    "<h3>Functions</h3>\n",
    "<ol>\n",
    "<li>enqueue</li>\n",
    "<li>dequeue</li>\n",
    "<li>isFull</li>\n",
    "<li>isEmplty</li>\n",
    "\n",
    "</ol>"
   ]
  },
  {
   "cell_type": "code",
   "execution_count": null,
   "id": "3c92e4e3",
   "metadata": {},
   "outputs": [
    {
     "name": "stdout",
     "output_type": "stream",
     "text": [
      "[20, 30, 6]\n",
      "[30, 6]\n"
     ]
    }
   ],
   "source": [
    "queue=[]\n",
    "queue.append(20)\n",
    "queue.append(30)\n",
    "queue.append(6)\n",
    "print(queue)\n",
    "queue.pop(0)\n",
    "print(queue)\n",
    "\n"
   ]
  },
  {
   "cell_type": "code",
   "execution_count": 3,
   "id": "9ea5cd4f",
   "metadata": {},
   "outputs": [
    {
     "name": "stdout",
     "output_type": "stream",
     "text": [
      "deque([30, 20, 10])\n",
      "deque([30])\n"
     ]
    }
   ],
   "source": [
    "import collections\n",
    "q=collections.deque()\n",
    "q.appendleft(10)\n",
    "q.appendleft(20)\n",
    "q.appendleft(30)\n",
    "print(q)\n",
    "q.pop()\n",
    "q.pop()\n",
    "print(q)\n",
    "\n"
   ]
  },
  {
   "cell_type": "markdown",
   "id": "d21a7ee5",
   "metadata": {},
   "source": [
    "# priority queue"
   ]
  },
  {
   "cell_type": "code",
   "execution_count": 6,
   "id": "92d05731",
   "metadata": {},
   "outputs": [
    {
     "name": "stdout",
     "output_type": "stream",
     "text": [
      "10\n",
      "33\n",
      "34\n"
     ]
    }
   ],
   "source": [
    "import queue\n",
    "q=queue.PriorityQueue()\n",
    "q.put(10)\n",
    "q.put(60)\n",
    "q.put(34)\n",
    "q.put(33)\n",
    "print(q.get())\n",
    "print(q.get())\n",
    "print(q.get())"
   ]
  },
  {
   "cell_type": "code",
   "execution_count": 7,
   "id": "dc233aef",
   "metadata": {},
   "outputs": [
    {
     "name": "stdout",
     "output_type": "stream",
     "text": [
      "[(7, 'aaaee'), (4, 'bb'), (3, 'qqa'), (2, 'aaabb'), (1, 'aaa')]\n"
     ]
    }
   ],
   "source": [
    "q=[]\n",
    "q.append((1,\"aaa\"))\n",
    "q.append((4,\"bb\"))\n",
    "q.append((2,\"aaabb\"))\n",
    "q.append((3,\"qqa\"))\n",
    "q.append((7,\"aaaee\"))\n",
    "\n",
    "q.sort(reverse=True)\n",
    "print(q)\n",
    "\n",
    "\n",
    "  "
   ]
  },
  {
   "cell_type": "markdown",
   "id": "da0c2a31",
   "metadata": {},
   "source": [
    "##LinkedList"
   ]
  },
  {
   "cell_type": "code",
   "execution_count": 19,
   "id": "49269a9b",
   "metadata": {},
   "outputs": [
    {
     "name": "stdout",
     "output_type": "stream",
     "text": [
      "80\n",
      "60\n",
      "13\n",
      "10\n",
      "100000\n"
     ]
    }
   ],
   "source": [
    " class Node:\n",
    "        def __init__(self,data):\n",
    "            self.data=data\n",
    "            self.ref=None\n",
    "class LinkedList:\n",
    "    def __init__ (self):\n",
    "        self.head=None\n",
    "        \n",
    "    def PrintLL(self):\n",
    "        if self.head is None:\n",
    "            print(\"Linked list is empty\")\n",
    "        else:\n",
    "            n=self.head\n",
    "            while n is not None:\n",
    "                print(n.data)\n",
    "                n=n.ref\n",
    "    def add_begin(self,data):\n",
    "        new_node=Node(data);\n",
    "        new_node.ref=self.head\n",
    "        self.head=new_node\n",
    "    def add_end(self,data):\n",
    "        new_node=Node(data)\n",
    "        n=self.head\n",
    "        while n.ref is not None:\n",
    "            n=n.ref\n",
    "        n.ref=new_node    \n",
    "    def add_after(self,data):\n",
    "        \n",
    "\n",
    "ll1 =LinkedList()\n",
    "ll1.add_begin(10)\n",
    "ll1.add_begin(13)\n",
    "ll1.add_begin(60)\n",
    "ll1.add_begin(80)\n",
    "ll1.add_end(100000)\n",
    "ll1.PrintLL()           \n",
    "            "
   ]
  },
  {
   "cell_type": "code",
   "execution_count": null,
   "id": "c35ac2ed",
   "metadata": {},
   "outputs": [],
   "source": []
  }
 ],
 "metadata": {
  "kernelspec": {
   "display_name": "Python 3 (ipykernel)",
   "language": "python",
   "name": "python3"
  },
  "language_info": {
   "codemirror_mode": {
    "name": "ipython",
    "version": 3
   },
   "file_extension": ".py",
   "mimetype": "text/x-python",
   "name": "python",
   "nbconvert_exporter": "python",
   "pygments_lexer": "ipython3",
   "version": "3.10.6"
  },
  "vscode": {
   "interpreter": {
    "hash": "83f6ef44998203fab1fb18b8d987485ead209dafe5a92fb9cd8397a8beb47063"
   }
  }
 },
 "nbformat": 4,
 "nbformat_minor": 5
}
