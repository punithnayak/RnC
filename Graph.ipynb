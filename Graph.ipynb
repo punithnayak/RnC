{
 "cells": [
  {
   "cell_type": "code",
   "execution_count": 2,
   "id": "424a055a",
   "metadata": {},
   "outputs": [
    {
     "name": "stdout",
     "output_type": "stream",
     "text": [
      "Before adding nodes\n",
      "[]\n",
      "[]\n",
      "After adding nodes\n",
      "Nodes: ['B', 'D', 'E', 'F', 'G']\n",
      "[[0, 0, 0, 0, 0], [0, 0, 100, 0, 0], [0, 100, 0, 0, 0], [0, 0, 0, 0, 10], [0, 0, 0, 10, 0]]\n"
     ]
    }
   ],
   "source": [
    "def add_node(v):\n",
    "    global node_count\n",
    "    if v in nodes:\n",
    "        print(v,\"is already present\")\n",
    "    else:\n",
    "        node_count=node_count+1\n",
    "        nodes.append(v)\n",
    "        for n in graph:\n",
    "            n.append(0)\n",
    "        temp=[]\n",
    "        for i in range(node_count):\n",
    "            temp.append(0)\n",
    "        graph.append(temp)\n",
    "        \n",
    "def add_edge(v1,v2,cost):\n",
    "    if v1 not in nodes:\n",
    "        print(v1,\"is not in the graph\")\n",
    "    elif v2 not in nodes:\n",
    "        print(v2,\"is not in the graph\")\n",
    "    else:\n",
    "        index1=nodes.index(v1)\n",
    "        index2=nodes.index(v2)\n",
    "        graph[index1][index2]=cost\n",
    "        graph[index2][index1]=cost\n",
    "\n",
    "def delete_node(v):\n",
    "    global node_count\n",
    "    if v not in nodes:\n",
    "        print(v,\"is not present in the graph\")\n",
    "    else:\n",
    "        index1=nodes.index(v)\n",
    "        node_count=node_count-1\n",
    "        nodes.remove(v)\n",
    "        graph.pop(index1)\n",
    "        for i in graph:\n",
    "            i.pop(index1)\n",
    "        \n",
    "def delete_edge(v1,v2):\n",
    "    if v1 not in nodes:\n",
    "        print(v1,\"is not present in graph\")\n",
    "    elif v2 not in nodes:\n",
    "        print(v2,\"is not present in graph\")\n",
    "    else:\n",
    "        index1=nodes.index(v1)\n",
    "        index2=nodes.index(v2)\n",
    "        graph[index1][index2]=0\n",
    "        graph[index2][index1]=0        \n",
    "\n",
    "nodes=[]\n",
    "graph=[]\n",
    "node_count=0\n",
    "print(\"Before adding nodes\")\n",
    "print(nodes)\n",
    "print(graph)\n",
    "add_node(\"A\")\n",
    "add_node(\"B\")\n",
    "add_node(\"D\")\n",
    "add_node(\"E\")\n",
    "add_node(\"F\")\n",
    "add_node(\"G\")\n",
    "add_edge(\"A\",\"B\",10)\n",
    "add_edge(\"A\",\"D\",10)\n",
    "add_edge(\"E\",\"D\",100)\n",
    "add_edge(\"E\",\"F\",13)\n",
    "add_edge(\"F\",\"G\",10)\n",
    "delete_edge(\"E\",\"F\")\n",
    "delete_node(\"A\")\n",
    "print(\"After adding nodes\")\n",
    "print(\"Nodes:\",nodes)\n",
    "print(graph)\n"
   ]
  },
  {
   "cell_type": "markdown",
   "id": "aa57e0ad",
   "metadata": {},
   "source": [
    "# Adjacency List"
   ]
  },
  {
   "cell_type": "code",
   "execution_count": 14,
   "id": "08d7c738",
   "metadata": {},
   "outputs": [
    {
     "name": "stdout",
     "output_type": "stream",
     "text": [
      "{'B': [['A', 200], ['E', 300], ['D', 600], ['A', 200]], 'C': [['A', 400], ['F', 700], ['D', 800]], 'D': [['A', 500], ['B', 600], ['C', 800], ['E', 900]], 'E': [['B', 300], ['D', 900]], 'F': [['C', 700]], 'G': []}\n"
     ]
    }
   ],
   "source": [
    "def add_node(v):\n",
    "    if v in graph:\n",
    "        print(v,\"is already present in graph\")\n",
    "    else:\n",
    "        graph[v]=[]\n",
    "\n",
    "def add_edge(v1,v2,cost):\n",
    "    if v1 not in graph:\n",
    "        print(v1,\"not in the graph\")\n",
    "    if v2 not in graph:\n",
    "        print(v2,\"not in the graph\")\n",
    "    else:\n",
    "        list1=[v2,cost]\n",
    "        list2=[v1,cost]\n",
    "        graph[v1].append(list1)\n",
    "        graph[v2].append(list2)\n",
    "\n",
    "def delete_node(v):\n",
    "    if v not in graph:\n",
    "        print(v,\"is not present in the graph\")\n",
    "    else:\n",
    "        graph.pop(v)\n",
    "        for i in graph:\n",
    "            list1=graph[i]\n",
    "            if v in list1:\n",
    "                if v == j[0]:\n",
    "                    list1.remove(j)\n",
    "                    break\n",
    "                \n",
    "            \n",
    "def delete_edge(v1,v2,cost):\n",
    "    if v1 not in graph:\n",
    "        print(v1,\"is not present in the graph\")\n",
    "    elif v2 not in graph:\n",
    "        print(v1,\"is not present in the graph\")\n",
    "    else:\n",
    "        list1=[v2,cost]\n",
    "        list2=[v1,cost]\n",
    "        graph[v1].append(list1)\n",
    "        graph[v2].append(list2)\n",
    "    \n",
    "    \n",
    "        \n",
    "        \n",
    "graph={}\n",
    "add_node(\"A\")\n",
    "add_node(\"B\")\n",
    "add_node(\"C\")\n",
    "add_node(\"D\")\n",
    "add_node(\"E\")\n",
    "add_node(\"F\")\n",
    "add_node(\"G\")\n",
    "\n",
    "add_edge(\"A\",\"B\",200)\n",
    "add_edge(\"B\",\"E\",300)\n",
    "add_edge(\"A\",\"C\",400)\n",
    "add_edge(\"A\",\"D\",500)\n",
    "add_edge(\"B\",\"D\",600)\n",
    "add_edge(\"F\",\"C\",700)\n",
    "add_edge(\"C\",\"D\",800)\n",
    "add_edge(\"E\",\"D\",900)\n",
    "delete_edge(\"A\",\"B\",200)\n",
    "delete_node(\"A\")\n",
    "#\n",
    "print(graph)"
   ]
  },
  {
   "cell_type": "markdown",
   "id": "1ce61e83",
   "metadata": {},
   "source": [
    "# Graphs Traversal"
   ]
  },
  {
   "cell_type": "code",
   "execution_count": 15,
   "id": "bcddfb55",
   "metadata": {},
   "outputs": [],
   "source": [
    "visited=set()\n",
    "def DFS(node,visited,graph):\n",
    "    if node not in graph:\n",
    "        print(\"Node is not present in the graph\")\n",
    "        return\n",
    "    if node not in visited :\n",
    "        print(node)\n",
    "        visited.add(node)\n",
    "        for i in graph[node]:\n",
    "            DFS(i,visited,graph)\n",
    "    \n",
    "        "
   ]
  },
  {
   "cell_type": "code",
   "execution_count": 17,
   "id": "226b3cf3",
   "metadata": {},
   "outputs": [],
   "source": [
    "def DFSiterative(node):\n",
    "    visited=set()\n",
    "    if node not in graph:\n",
    "        print(\"Node is not present in the graph\")\n",
    "        return\n",
    "    stack=[]\n",
    "    stack.append(node)\n",
    "    while stack:\n",
    "        current=stack.pop()\n",
    "        if current not in visited:\n",
    "            print(current)\n",
    "        visited.add(current)\n",
    "        for i in graph[current]:\n",
    "            stack.append(i)\n",
    "    "
   ]
  },
  {
   "cell_type": "markdown",
   "id": "f0dc2111",
   "metadata": {},
   "source": [
    "# Handshaking lemma"
   ]
  },
  {
   "cell_type": "markdown",
   "id": "9c45d6f7",
   "metadata": {},
   "source": [
    "sum of degrees=2(#edges)"
   ]
  },
  {
   "cell_type": "code",
   "execution_count": null,
   "id": "057049cc",
   "metadata": {},
   "outputs": [],
   "source": []
  }
 ],
 "metadata": {
  "kernelspec": {
   "display_name": "Python 3 (ipykernel)",
   "language": "python",
   "name": "python3"
  },
  "language_info": {
   "codemirror_mode": {
    "name": "ipython",
    "version": 3
   },
   "file_extension": ".py",
   "mimetype": "text/x-python",
   "name": "python",
   "nbconvert_exporter": "python",
   "pygments_lexer": "ipython3",
   "version": "3.10.6"
  }
 },
 "nbformat": 4,
 "nbformat_minor": 5
}
