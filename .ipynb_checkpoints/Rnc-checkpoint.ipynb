{
 "cells": [
  {
   "cell_type": "markdown",
   "id": "f64f1a50",
   "metadata": {},
   "source": [
    "<h1 style=\"font-size:4rem;color:red;\">Python</h1>\n"
   ]
  },
  {
   "cell_type": "markdown",
   "id": "9e1531b1",
   "metadata": {},
   "source": [
    "# Data-strucuture"
   ]
  },
  {
   "cell_type": "code",
   "execution_count": 8,
   "id": "bb6cff35",
   "metadata": {},
   "outputs": [
    {
     "name": "stdout",
     "output_type": "stream",
     "text": [
      "[1, 2, 'yo', None]\n"
     ]
    }
   ],
   "source": [
    "list=[1,2,\"yo\",None]\n",
    "print(list)"
   ]
  },
  {
   "cell_type": "code",
   "execution_count": 9,
   "id": "95e77299",
   "metadata": {},
   "outputs": [
    {
     "name": "stdout",
     "output_type": "stream",
     "text": [
      "342\n"
     ]
    }
   ],
   "source": [
    "list2=[2,3,4,4,\"fwf\",342,\"1234\"]\n",
    "print(list2[-2])"
   ]
  },
  {
   "cell_type": "markdown",
   "id": "08eb1b7d",
   "metadata": {},
   "source": [
    "<h2 style=\"align-text:center;color:yelllow;\"> Python Dictionary</h2>\n"
   ]
  },
  {
   "cell_type": "code",
   "execution_count": 10,
   "id": "e377a851",
   "metadata": {},
   "outputs": [
    {
     "data": {
      "text/plain": [
       "'Yashveer'"
      ]
     },
     "execution_count": 10,
     "metadata": {},
     "output_type": "execute_result"
    }
   ],
   "source": [
    "Dict={\"Name\":\"Yashveer\",3:[44,55,66,7,876]}\n",
    "\n",
    "Dict[\"Name\"]"
   ]
  },
  {
   "cell_type": "code",
   "execution_count": 14,
   "id": "6e0d16c6",
   "metadata": {},
   "outputs": [
    {
     "name": "stdout",
     "output_type": "stream",
     "text": [
      "[44, 55, 66, 7, 876]\n"
     ]
    }
   ],
   "source": [
    "print(Dict.get(3))"
   ]
  },
  {
   "cell_type": "code",
   "execution_count": 15,
   "id": "13598993",
   "metadata": {},
   "outputs": [
    {
     "name": "stdout",
     "output_type": "stream",
     "text": [
      "{4: 64, 5: 125, 6: 216, 7: 343, 8: 512}\n"
     ]
    }
   ],
   "source": [
    "myDic={x:x**3 for x in [4,5,6,7,8]}\n",
    "print(myDic)"
   ]
  },
  {
   "cell_type": "markdown",
   "id": "ed23e826",
   "metadata": {},
   "source": [
    "<h3>Tupple</h3>"
   ]
  },
  {
   "cell_type": "code",
   "execution_count": 16,
   "id": "304a8086",
   "metadata": {},
   "outputs": [
    {
     "name": "stdout",
     "output_type": "stream",
     "text": [
      "(2, 3, 4, 5)\n"
     ]
    }
   ],
   "source": [
    "tup=(2,3,4,5)\n",
    "print(tup)"
   ]
  },
  {
   "cell_type": "code",
   "execution_count": 20,
   "id": "7a2b6822",
   "metadata": {},
   "outputs": [
    {
     "name": "stdout",
     "output_type": "stream",
     "text": [
      "(4, 5, 6, 7, 8, 8, 8, 9)\n",
      "8\n"
     ]
    }
   ],
   "source": [
    "list3=[4,5,6,7,8,8,8,9]\n",
    "mytupple=tuple(list3)\n",
    "print(mytupple)\n",
    "print(mytupple[-3])"
   ]
  },
  {
   "cell_type": "markdown",
   "id": "68231363",
   "metadata": {},
   "source": [
    "# #set"
   ]
  },
  {
   "cell_type": "code",
   "execution_count": 22,
   "id": "c23306d3",
   "metadata": {},
   "outputs": [
    {
     "name": "stdout",
     "output_type": "stream",
     "text": [
      "{3, 4, 5, 'helloWorld', 'for', 'python'}\n"
     ]
    }
   ],
   "source": [
    "Set=set([3,4,\"helloWorld\",4,\"for\",5,\"python\"])\n",
    "print(Set)"
   ]
  },
  {
   "cell_type": "code",
   "execution_count": 26,
   "id": "90536b4b",
   "metadata": {},
   "outputs": [
    {
     "name": "stdout",
     "output_type": "stream",
     "text": [
      "3 4 5 helloWorld for python "
     ]
    }
   ],
   "source": [
    "for i in Set:\n",
    "    print(i, end=\" \")"
   ]
  },
  {
   "cell_type": "code",
   "execution_count": 27,
   "id": "937c12f7",
   "metadata": {},
   "outputs": [
    {
     "name": "stdout",
     "output_type": "stream",
     "text": [
      "True\n"
     ]
    }
   ],
   "source": [
    "print(\"helloWorld\" in Set)"
   ]
  },
  {
   "cell_type": "markdown",
   "id": "0b4d0bb6",
   "metadata": {},
   "source": [
    "#Frozen set "
   ]
  },
  {
   "cell_type": "code",
   "execution_count": 28,
   "id": "4d123d0d",
   "metadata": {},
   "outputs": [
    {
     "ename": "AttributeError",
     "evalue": "'frozenset' object has no attribute 'add'",
     "output_type": "error",
     "traceback": [
      "\u001b[1;31m---------------------------------------------------------------------------\u001b[0m",
      "\u001b[1;31mAttributeError\u001b[0m                            Traceback (most recent call last)",
      "Input \u001b[1;32mIn [28]\u001b[0m, in \u001b[0;36m<cell line: 2>\u001b[1;34m()\u001b[0m\n\u001b[0;32m      1\u001b[0m Frozen_set\u001b[38;5;241m=\u001b[39m\u001b[38;5;28mfrozenset\u001b[39m([\u001b[38;5;124m\"\u001b[39m\u001b[38;5;124me\u001b[39m\u001b[38;5;124m\"\u001b[39m,\u001b[38;5;124m\"\u001b[39m\u001b[38;5;124mf\u001b[39m\u001b[38;5;124m\"\u001b[39m,\u001b[38;5;124m\"\u001b[39m\u001b[38;5;124mg\u001b[39m\u001b[38;5;124m\"\u001b[39m])\n\u001b[1;32m----> 2\u001b[0m \u001b[43mFrozen_set\u001b[49m\u001b[38;5;241;43m.\u001b[39;49m\u001b[43madd\u001b[49m(\u001b[38;5;241m4\u001b[39m)\n",
      "\u001b[1;31mAttributeError\u001b[0m: 'frozenset' object has no attribute 'add'"
     ]
    }
   ],
   "source": [
    "Frozen_set=frozenset([\"e\",\"f\",\"g\"])\n",
    "Frozen_set.add(4)"
   ]
  },
  {
   "cell_type": "markdown",
   "id": "0a0c45cc",
   "metadata": {},
   "source": [
    "# Collection module"
   ]
  },
  {
   "cell_type": "code",
   "execution_count": 29,
   "id": "d389b2cd",
   "metadata": {},
   "outputs": [
    {
     "name": "stdout",
     "output_type": "stream",
     "text": [
      "Counter({'B': 5, 'A': 3, 'C': 2})\n"
     ]
    }
   ],
   "source": [
    "from collections import Counter\n",
    "print(Counter(['B','B','A','B','C','A','B','B','A','C']))"
   ]
  },
  {
   "cell_type": "code",
   "execution_count": 36,
   "id": "8c0f19c8",
   "metadata": {},
   "outputs": [
    {
     "name": "stdout",
     "output_type": "stream",
     "text": [
      "Counter({'sdf': 2, 5: 2, 2: 1, 3: 1, 4: 1})\n"
     ]
    }
   ],
   "source": [
    "from collections import Counter\n",
    "print(Counter([\"sdf\",\"sdf\",2,3,4,5,5]))"
   ]
  },
  {
   "cell_type": "markdown",
   "id": "267cb7a3",
   "metadata": {},
   "source": [
    "# Linkedlist"
   ]
  },
  {
   "cell_type": "code",
   "execution_count": 41,
   "id": "63f5d7c5",
   "metadata": {},
   "outputs": [
    {
     "ename": "AttributeError",
     "evalue": "'Linkedlist' object has no attribute 'printList'",
     "output_type": "error",
     "traceback": [
      "\u001b[1;31m---------------------------------------------------------------------------\u001b[0m",
      "\u001b[1;31mAttributeError\u001b[0m                            Traceback (most recent call last)",
      "Input \u001b[1;32mIn [41]\u001b[0m, in \u001b[0;36m<cell line: 17>\u001b[1;34m()\u001b[0m\n\u001b[0;32m     22\u001b[0m list1\u001b[38;5;241m.\u001b[39mhead\u001b[38;5;241m.\u001b[39mnext\u001b[38;5;241m=\u001b[39msecond\n\u001b[0;32m     23\u001b[0m second\u001b[38;5;241m.\u001b[39mnext\u001b[38;5;241m=\u001b[39mthird\n\u001b[1;32m---> 24\u001b[0m \u001b[43mlist1\u001b[49m\u001b[38;5;241;43m.\u001b[39;49m\u001b[43mprintList\u001b[49m()\n",
      "\u001b[1;31mAttributeError\u001b[0m: 'Linkedlist' object has no attribute 'printList'"
     ]
    }
   ],
   "source": [
    "class Node:\n",
    "    def __init__(self,data):\n",
    "        self.data=data\n",
    "        self.next=None\n",
    "        \n",
    "class Linkedlist:\n",
    "    def __init__(self):\n",
    "        self.head=None\n",
    "\n",
    "\n",
    "def printList(self):\n",
    "    temp=self.head\n",
    "    while(temp):\n",
    "        print(temp.data)\n",
    "        temp=temp=next\n",
    "        \n",
    "if __name__==\"__main__\":\n",
    "    list1=Linkedlist()\n",
    "    list1.head=Node(9)\n",
    "    second=Node(23)\n",
    "    third=Node(23)\n",
    "    list1.head.next=second\n",
    "    second.next=third\n",
    "    list1.printList()\n",
    "    \n",
    "        \n",
    "        "
   ]
  },
  {
   "cell_type": "code",
   "execution_count": null,
   "id": "245223f8",
   "metadata": {},
   "outputs": [],
   "source": []
  }
 ],
 "metadata": {
  "kernelspec": {
   "display_name": "Python 3 (ipykernel)",
   "language": "python",
   "name": "python3"
  },
  "language_info": {
   "codemirror_mode": {
    "name": "ipython",
    "version": 3
   },
   "file_extension": ".py",
   "mimetype": "text/x-python",
   "name": "python",
   "nbconvert_exporter": "python",
   "pygments_lexer": "ipython3",
   "version": "3.10.6"
  }
 },
 "nbformat": 4,
 "nbformat_minor": 5
}
