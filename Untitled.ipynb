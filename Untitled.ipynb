{
 "cells": [
  {
   "cell_type": "code",
   "execution_count": 2,
   "id": "3b8a0bde",
   "metadata": {},
   "outputs": [],
   "source": [
    "class Car:\n",
    "   \n",
    "    def __init__(self,make,model,year,color):\n",
    "        self.make=make\n",
    "        self.model=model\n",
    "        self.year=year\n",
    "        self.color=color\n",
    "        \n",
    "    \n",
    "    def drive(self):\n",
    "        print(\"This is car\")\n",
    "    def stop(self):\n",
    "        print(\"This car is stopped\")\n",
    "         "
   ]
  },
  {
   "cell_type": "code",
   "execution_count": 3,
   "id": "5e1d73ea",
   "metadata": {},
   "outputs": [],
   "source": [
    "car_1=Car(\"chevy\",\"Corvette\",2021,\"blue\")"
   ]
  },
  {
   "cell_type": "code",
   "execution_count": null,
   "id": "b09d7cb6",
   "metadata": {},
   "outputs": [],
   "source": [
    "class Organism:\n",
    "    alive=True\n",
    "class Animal(Organism):\n",
    "    "
   ]
  }
 ],
 "metadata": {
  "kernelspec": {
   "display_name": "Python 3 (ipykernel)",
   "language": "python",
   "name": "python3"
  },
  "language_info": {
   "codemirror_mode": {
    "name": "ipython",
    "version": 3
   },
   "file_extension": ".py",
   "mimetype": "text/x-python",
   "name": "python",
   "nbconvert_exporter": "python",
   "pygments_lexer": "ipython3",
   "version": "3.10.6"
  }
 },
 "nbformat": 4,
 "nbformat_minor": 5
}
